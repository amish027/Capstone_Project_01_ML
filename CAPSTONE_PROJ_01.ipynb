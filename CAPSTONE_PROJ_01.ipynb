{
 "cells": [
  {
   "cell_type": "markdown",
   "id": "cb3c4175",
   "metadata": {},
   "source": [
    "# Logistic_Regression"
   ]
  },
  {
   "cell_type": "code",
   "execution_count": 1,
   "id": "eb90156e",
   "metadata": {},
   "outputs": [
    {
     "name": "stdout",
     "output_type": "stream",
     "text": [
      "Requirement already satisfied: pymysql in c:\\users\\mdami\\anaconda3\\lib\\site-packages (1.1.0)\n"
     ]
    }
   ],
   "source": [
    "! pip install pymysql"
   ]
  },
  {
   "cell_type": "code",
   "execution_count": 2,
   "id": "2719dffe",
   "metadata": {},
   "outputs": [],
   "source": [
    "import pandas as pd \n",
    "import pymysql"
   ]
  },
  {
   "cell_type": "code",
   "execution_count": 3,
   "id": "58ca377c",
   "metadata": {},
   "outputs": [
    {
     "name": "stdout",
     "output_type": "stream",
     "text": [
      "Connection established <pymysql.connections.Connection object at 0x000001B041398390>\n"
     ]
    }
   ],
   "source": [
    "conn = pymysql.connect(host ='localhost',port= int(3306), user = 'root',passwd= 'amish@mysql1',db='b94')\n",
    "print(\"Connection established\", conn)"
   ]
  },
  {
   "cell_type": "code",
   "execution_count": 4,
   "id": "445cd12e",
   "metadata": {},
   "outputs": [
    {
     "name": "stderr",
     "output_type": "stream",
     "text": [
      "C:\\Users\\mdami\\AppData\\Local\\Temp\\ipykernel_11080\\1850163263.py:1: UserWarning: pandas only supports SQLAlchemy connectable (engine/connection) or database string URI or sqlite3 DBAPI2 connection. Other DBAPI2 objects are not tested. Please consider using SQLAlchemy.\n",
      "  df = pd.read_sql_query(\"select*from students\",conn)\n"
     ]
    }
   ],
   "source": [
    "df = pd.read_sql_query(\"select*from students\",conn)"
   ]
  },
  {
   "cell_type": "code",
   "execution_count": 5,
   "id": "0c65f508",
   "metadata": {
    "scrolled": true
   },
   "outputs": [
    {
     "name": "stdout",
     "output_type": "stream",
     "text": [
      "       JEEPRE   JEEMAINS  STATUS\n",
      "0   34.623660  78.024693       0\n",
      "1   30.286711  43.894998       0\n",
      "2   35.847409  72.902198       0\n",
      "3   60.182599  86.308552       1\n",
      "4   79.032736  75.344376       1\n",
      "..        ...        ...     ...\n",
      "95  83.489163  48.380286       1\n",
      "96  42.261701  87.103851       1\n",
      "97  99.315009  68.775409       1\n",
      "98  55.340018  64.931938       1\n",
      "99  74.775893  89.529813       1\n",
      "\n",
      "[100 rows x 3 columns]\n"
     ]
    }
   ],
   "source": [
    "print(df)"
   ]
  },
  {
   "cell_type": "code",
   "execution_count": 6,
   "id": "dcbec9bb",
   "metadata": {},
   "outputs": [
    {
     "name": "stdout",
     "output_type": "stream",
     "text": [
      "      JEEPRE   JEEMAINS  STATUS\n",
      "0  34.623660  78.024693       0\n",
      "1  30.286711  43.894998       0\n",
      "2  35.847409  72.902198       0\n",
      "3  60.182599  86.308552       1\n",
      "4  79.032736  75.344376       1\n"
     ]
    }
   ],
   "source": [
    "print(df.head(5))"
   ]
  },
  {
   "cell_type": "code",
   "execution_count": 7,
   "id": "f8c16cee",
   "metadata": {},
   "outputs": [
    {
     "name": "stdout",
     "output_type": "stream",
     "text": [
      "(100, 3)\n"
     ]
    }
   ],
   "source": [
    "print(df.shape)"
   ]
  },
  {
   "cell_type": "code",
   "execution_count": 8,
   "id": "7145340f",
   "metadata": {},
   "outputs": [],
   "source": [
    "from sklearn.linear_model import LogisticRegression "
   ]
  },
  {
   "cell_type": "code",
   "execution_count": 9,
   "id": "6e83ed8e",
   "metadata": {},
   "outputs": [],
   "source": [
    "model = LogisticRegression()"
   ]
  },
  {
   "cell_type": "code",
   "execution_count": 10,
   "id": "e2ec27ac",
   "metadata": {},
   "outputs": [
    {
     "name": "stdout",
     "output_type": "stream",
     "text": [
      "LogisticRegression()\n"
     ]
    }
   ],
   "source": [
    "print(model)"
   ]
  },
  {
   "cell_type": "code",
   "execution_count": 11,
   "id": "9a222215",
   "metadata": {},
   "outputs": [],
   "source": [
    "x= df[['JEEPRE','JEEMAINS']]\n",
    "y= df['STATUS']"
   ]
  },
  {
   "cell_type": "code",
   "execution_count": 12,
   "id": "fe4f0acc",
   "metadata": {},
   "outputs": [],
   "source": [
    "# Model_Training"
   ]
  },
  {
   "cell_type": "code",
   "execution_count": 13,
   "id": "8563b23d",
   "metadata": {},
   "outputs": [
    {
     "name": "stdout",
     "output_type": "stream",
     "text": [
      "Model Trained\n"
     ]
    }
   ],
   "source": [
    "model_train =  model.fit(x,y)\n",
    "print(\"Model Trained\")"
   ]
  },
  {
   "cell_type": "code",
   "execution_count": 14,
   "id": "7063172b",
   "metadata": {},
   "outputs": [
    {
     "data": {
      "text/plain": [
       "0.89"
      ]
     },
     "execution_count": 14,
     "metadata": {},
     "output_type": "execute_result"
    }
   ],
   "source": [
    "model.score(x,y)"
   ]
  },
  {
   "cell_type": "code",
   "execution_count": 15,
   "id": "1c5eced4",
   "metadata": {},
   "outputs": [],
   "source": [
    "pred= model_train.predict(x)"
   ]
  },
  {
   "cell_type": "code",
   "execution_count": 16,
   "id": "1233b09a",
   "metadata": {},
   "outputs": [
    {
     "name": "stdout",
     "output_type": "stream",
     "text": [
      "[0 0 0 1 1 0 1 0 1 1 1 0 1 1 0 1 0 0 1 1 0 1 0 0 1 1 1 1 0 0 1 1 0 0 0 0 1\n",
      " 1 0 0 1 0 1 1 0 0 1 1 1 1 1 1 1 0 0 0 1 1 1 1 1 0 0 0 0 0 1 0 1 1 0 1 1 1\n",
      " 1 1 1 1 0 1 1 1 1 0 1 1 0 1 1 0 1 1 0 1 1 1 1 1 0 1]\n"
     ]
    }
   ],
   "source": [
    "print(pred)"
   ]
  },
  {
   "cell_type": "code",
   "execution_count": 17,
   "id": "938c2c00",
   "metadata": {},
   "outputs": [],
   "source": [
    "from sklearn.metrics import accuracy_score"
   ]
  },
  {
   "cell_type": "code",
   "execution_count": 18,
   "id": "0db835d0",
   "metadata": {},
   "outputs": [
    {
     "data": {
      "text/plain": [
       "0.89"
      ]
     },
     "execution_count": 18,
     "metadata": {},
     "output_type": "execute_result"
    }
   ],
   "source": [
    "accuracy_score(y,pred)"
   ]
  },
  {
   "cell_type": "code",
   "execution_count": 19,
   "id": "a9e49f8f",
   "metadata": {},
   "outputs": [],
   "source": [
    "# Accuracy of model - 89% "
   ]
  },
  {
   "cell_type": "code",
   "execution_count": null,
   "id": "efa58e2b",
   "metadata": {},
   "outputs": [],
   "source": []
  }
 ],
 "metadata": {
  "kernelspec": {
   "display_name": "Python 3 (ipykernel)",
   "language": "python",
   "name": "python3"
  },
  "language_info": {
   "codemirror_mode": {
    "name": "ipython",
    "version": 3
   },
   "file_extension": ".py",
   "mimetype": "text/x-python",
   "name": "python",
   "nbconvert_exporter": "python",
   "pygments_lexer": "ipython3",
   "version": "3.11.5"
  }
 },
 "nbformat": 4,
 "nbformat_minor": 5
}
